{
 "cells": [
  {
   "cell_type": "code",
   "execution_count": 1,
   "id": "04bb0a29",
   "metadata": {},
   "outputs": [],
   "source": [
    "import pandas as pd\n",
    "import json\n",
    "import requests"
   ]
  },
  {
   "cell_type": "code",
   "execution_count": 2,
   "id": "bfe51b06",
   "metadata": {},
   "outputs": [],
   "source": [
    "def format_date(date):\n",
    "    \"\"\"\n",
    "    Функция принимает на вход дату в формате день/месяц/год и возвращает в формате год-месяц-день\n",
    "    \n",
    "    Параметры:\n",
    "        date: string — дата\n",
    "    \"\"\"\n",
    "    \n",
    "    day, month, year = date.split(\"/\")\n",
    "    \n",
    "    return \"{}-{}-{}\".format(year, month, day)"
   ]
  },
  {
   "cell_type": "code",
   "execution_count": 6,
   "id": "d9076cdb",
   "metadata": {},
   "outputs": [],
   "source": [
    "def get_exchange_rates(date_start, date_end, save=False, filename=None):\n",
    "    \"\"\"\n",
    "    Функция принимает на вход начало и конец периода, за которые нужно получить данные о курсе обмена\n",
    "    ангольской квазы на американский доллар.\n",
    "    Возвращает DataFrame со столбцами [Date, Value]. Если указана опция save, то сохраняет созданный \n",
    "    DataFrame с указанным именем в формате .xlsx\n",
    "    \n",
    "    Параметры:\n",
    "        date_start: string — начало периода,\n",
    "        date_end: string — конец периода,\n",
    "        save: boolean — сохранять данные в excel-файл или нет, по умолчанию save=False,\n",
    "        filename: string — если save=True, то является обязательным, название excel-файла,\n",
    "        web_driver: string — путь к драйверу Firefox\n",
    "    \"\"\"\n",
    "    \n",
    "    if save and not filename:\n",
    "        raise ValueError(\"Filename should be specified when save option is True\")\n",
    "        \n",
    "    date_start_formatted = format_date(date_start)\n",
    "    date_end_formatted = format_date(date_end)\n",
    "    \n",
    "    # осуществляем запрос к сайту национального банка Хорватии с указанным промежутком дат\n",
    "    request_string = \"https://www.bna.ao/service/rest/taxas/get/evolucao/taxa/intervalo?datainicio={}&datafim={}&tipocambio=M&moeda=USD\"\n",
    "    request_string = request_string.format(date_start_formatted, date_end_formatted)\n",
    "    request = requests.get(request_string, verify=False)\n",
    "    \n",
    "    # переводим полученный JSON в DataFrame\n",
    "    exchange_rates_df = pd.read_json(request.text[19:-16], orient='records')\n",
    "    \n",
    "    # выбираем нужные столбцы из DataFrame\n",
    "    exchange_rates_df = exchange_rates_df[['data', 'taxa']]\n",
    "    \n",
    "    # форматируем DataFrame\n",
    "    exchange_rates_df = exchange_rates_df.rename(columns={\"data\": \"Date\", \"taxa\": \"AOA\"})\n",
    "    exchange_rates_df['Date'] = pd.to_datetime(exchange_rates_df['Date'], format='%Y-%m-%d')\n",
    "    \n",
    "    # заполянем пропущенные даты значениями за ближайшие прошлые даты\n",
    "    date_range = pd.date_range(start=date_start_formatted, end=date_end_formatted)\n",
    "    exchange_rates_df = exchange_rates_df.set_index('Date')\n",
    "    exchange_rates_df = exchange_rates_df.reindex(date_range, fill_value=None)\n",
    "    exchange_rates_df = exchange_rates_df.reset_index(names='Date')\n",
    "    exchange_rates_df = exchange_rates_df.fillna(method='bfill')\n",
    "    \n",
    "    # ещё раз форматируем DataFrame\n",
    "    exchange_rates_df['Date'] = exchange_rates_df['Date'].dt.strftime('%d/%m/%Y')\n",
    "    exchange_rates_df['AOA'] = exchange_rates_df['AOA'].astype(float)\n",
    "    \n",
    "    if save:\n",
    "        exchange_rates_df.to_excel(filename, index=False)\n",
    "        \n",
    "    return exchange_rates_df"
   ]
  },
  {
   "cell_type": "code",
   "execution_count": 7,
   "id": "8a03bb83",
   "metadata": {},
   "outputs": [],
   "source": [
    "date_start = \"10/10/2022\"\n",
    "date_end = \"18/10/2022\""
   ]
  },
  {
   "cell_type": "code",
   "execution_count": 8,
   "id": "f2370218",
   "metadata": {},
   "outputs": [
    {
     "name": "stderr",
     "output_type": "stream",
     "text": [
      "C:\\Users\\Anton\\AppData\\Local\\Programs\\Python\\Python310\\lib\\site-packages\\urllib3\\connectionpool.py:1043: InsecureRequestWarning: Unverified HTTPS request is being made to host 'www.bna.ao'. Adding certificate verification is strongly advised. See: https://urllib3.readthedocs.io/en/1.26.x/advanced-usage.html#ssl-warnings\n",
      "  warnings.warn(\n"
     ]
    },
    {
     "data": {
      "text/html": [
       "<div>\n",
       "<style scoped>\n",
       "    .dataframe tbody tr th:only-of-type {\n",
       "        vertical-align: middle;\n",
       "    }\n",
       "\n",
       "    .dataframe tbody tr th {\n",
       "        vertical-align: top;\n",
       "    }\n",
       "\n",
       "    .dataframe thead th {\n",
       "        text-align: right;\n",
       "    }\n",
       "</style>\n",
       "<table border=\"1\" class=\"dataframe\">\n",
       "  <thead>\n",
       "    <tr style=\"text-align: right;\">\n",
       "      <th></th>\n",
       "      <th>Date</th>\n",
       "      <th>AOA</th>\n",
       "    </tr>\n",
       "  </thead>\n",
       "  <tbody>\n",
       "    <tr>\n",
       "      <th>0</th>\n",
       "      <td>10/10/2022</td>\n",
       "      <td>440.63000</td>\n",
       "    </tr>\n",
       "    <tr>\n",
       "      <th>1</th>\n",
       "      <td>11/10/2022</td>\n",
       "      <td>441.57595</td>\n",
       "    </tr>\n",
       "    <tr>\n",
       "      <th>2</th>\n",
       "      <td>12/10/2022</td>\n",
       "      <td>439.58815</td>\n",
       "    </tr>\n",
       "    <tr>\n",
       "      <th>3</th>\n",
       "      <td>13/10/2022</td>\n",
       "      <td>440.97215</td>\n",
       "    </tr>\n",
       "    <tr>\n",
       "      <th>4</th>\n",
       "      <td>14/10/2022</td>\n",
       "      <td>442.51065</td>\n",
       "    </tr>\n",
       "    <tr>\n",
       "      <th>5</th>\n",
       "      <td>15/10/2022</td>\n",
       "      <td>443.60045</td>\n",
       "    </tr>\n",
       "    <tr>\n",
       "      <th>6</th>\n",
       "      <td>16/10/2022</td>\n",
       "      <td>443.60045</td>\n",
       "    </tr>\n",
       "    <tr>\n",
       "      <th>7</th>\n",
       "      <td>17/10/2022</td>\n",
       "      <td>443.60045</td>\n",
       "    </tr>\n",
       "    <tr>\n",
       "      <th>8</th>\n",
       "      <td>18/10/2022</td>\n",
       "      <td>447.89820</td>\n",
       "    </tr>\n",
       "  </tbody>\n",
       "</table>\n",
       "</div>"
      ],
      "text/plain": [
       "         Date        AOA\n",
       "0  10/10/2022  440.63000\n",
       "1  11/10/2022  441.57595\n",
       "2  12/10/2022  439.58815\n",
       "3  13/10/2022  440.97215\n",
       "4  14/10/2022  442.51065\n",
       "5  15/10/2022  443.60045\n",
       "6  16/10/2022  443.60045\n",
       "7  17/10/2022  443.60045\n",
       "8  18/10/2022  447.89820"
      ]
     },
     "execution_count": 8,
     "metadata": {},
     "output_type": "execute_result"
    }
   ],
   "source": [
    "get_exchange_rates(date_start, date_end, save=True, filename=\"exchange_rates_aoa.xlsx\")"
   ]
  }
 ],
 "metadata": {
  "kernelspec": {
   "display_name": "Python 3 (ipykernel)",
   "language": "python",
   "name": "python3"
  },
  "language_info": {
   "codemirror_mode": {
    "name": "ipython",
    "version": 3
   },
   "file_extension": ".py",
   "mimetype": "text/x-python",
   "name": "python",
   "nbconvert_exporter": "python",
   "pygments_lexer": "ipython3",
   "version": "3.10.7"
  }
 },
 "nbformat": 4,
 "nbformat_minor": 5
}
