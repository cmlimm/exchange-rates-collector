{
 "cells": [
  {
   "cell_type": "code",
   "execution_count": 41,
   "id": "33a7c0f9",
   "metadata": {},
   "outputs": [],
   "source": [
    "import pandas as pd\n",
    "import requests"
   ]
  },
  {
   "cell_type": "code",
   "execution_count": 42,
   "id": "5e00088e",
   "metadata": {},
   "outputs": [],
   "source": [
    "def format_date(date):\n",
    "    \"\"\"\n",
    "    Функция принимает на вход дату в формате день/месяц/год и возвращает в формате год-месяц-день\n",
    "    \n",
    "    Параметры:\n",
    "        date: string — дата\n",
    "    \"\"\"\n",
    "    \n",
    "    day, month, year = date.split(\"/\")\n",
    "    \n",
    "    return \"{}-{}-{}\".format(year, month, day)"
   ]
  },
  {
   "cell_type": "code",
   "execution_count": 43,
   "id": "9f257b9f",
   "metadata": {},
   "outputs": [],
   "source": [
    "def get_exchange_rates(date_start, date_end, save=False, filename=None):\n",
    "    \"\"\"\n",
    "    Функция принимает на вход начало и конец периода, за которые нужно получить данные о курсе обмена\n",
    "    хорватской куны на американский доллар.\n",
    "    Возвращает DataFrame со столбцами [Date, Value]. Если указана опция save, то сохраняет созданный \n",
    "    DataFrame с указанным именем в формате .xlsx\n",
    "    \n",
    "    Параметры:\n",
    "        date_start: string — начало периода,\n",
    "        date_end: string — конец периода,\n",
    "        save: boolean — сохранять данные в excel-файл или нет, по умолчанию save=False,\n",
    "        filename: string — если save=True, то является обязательным, название excel-файла,\n",
    "        web_driver: string — путь к драйверу Firefox\n",
    "    \"\"\"\n",
    "    \n",
    "    if save and not filename:\n",
    "        raise ValueError(\"Filename should be specified when save option is True\")\n",
    "        \n",
    "    # осуществляем запрос к сайту национального банка Хорватии с указанным промежутком дат\n",
    "    request_string = \"https://api.hnb.hr/tecajn/v1?datum-od={}&datum-do={}&valuta=USD\".format(format_date(date_start), \n",
    "                                                                                              format_date(date_end))\n",
    "    request = requests.get(request_string)\n",
    "    \n",
    "    # переводим полученный JSON в DataFrame\n",
    "    exchange_rates_df = pd.read_json(request.text)\n",
    "    \n",
    "    # выбираем нужные столбцы из DataFrame\n",
    "    exchange_rates_df = exchange_rates_df[['Datum primjene', 'Srednji za devize']]\n",
    "    \n",
    "    # форматируем DataFrame к нужному формату\n",
    "    exchange_rates_df = exchange_rates_df.rename(columns={\"Datum primjene\": \"Date\", \"Srednji za devize\": \"HRK\"})\n",
    "    exchange_rates_df['Date'] = pd.to_datetime(exchange_rates_df['Date'], format='%d.%m.%Y').dt.strftime('%d/%m/%Y')\n",
    "    exchange_rates_df['HRK'] = exchange_rates_df['HRK'].str.replace(',', '.').astype(float)\n",
    "    \n",
    "    if save:\n",
    "        exchange_rates_df.to_excel(filename, index=False)\n",
    "        \n",
    "    return exchange_rates_df"
   ]
  },
  {
   "cell_type": "code",
   "execution_count": 44,
   "id": "d9911512",
   "metadata": {},
   "outputs": [],
   "source": [
    "date_start = \"10/10/2022\"\n",
    "date_end = \"18/10/2022\""
   ]
  },
  {
   "cell_type": "code",
   "execution_count": 45,
   "id": "8d8b18c2",
   "metadata": {},
   "outputs": [
    {
     "data": {
      "text/html": [
       "<div>\n",
       "<style scoped>\n",
       "    .dataframe tbody tr th:only-of-type {\n",
       "        vertical-align: middle;\n",
       "    }\n",
       "\n",
       "    .dataframe tbody tr th {\n",
       "        vertical-align: top;\n",
       "    }\n",
       "\n",
       "    .dataframe thead th {\n",
       "        text-align: right;\n",
       "    }\n",
       "</style>\n",
       "<table border=\"1\" class=\"dataframe\">\n",
       "  <thead>\n",
       "    <tr style=\"text-align: right;\">\n",
       "      <th></th>\n",
       "      <th>Date</th>\n",
       "      <th>HRK</th>\n",
       "    </tr>\n",
       "  </thead>\n",
       "  <tbody>\n",
       "    <tr>\n",
       "      <th>0</th>\n",
       "      <td>10/10/2022</td>\n",
       "      <td>7.673986</td>\n",
       "    </tr>\n",
       "    <tr>\n",
       "      <th>1</th>\n",
       "      <td>11/10/2022</td>\n",
       "      <td>7.752944</td>\n",
       "    </tr>\n",
       "    <tr>\n",
       "      <th>2</th>\n",
       "      <td>12/10/2022</td>\n",
       "      <td>7.757543</td>\n",
       "    </tr>\n",
       "    <tr>\n",
       "      <th>3</th>\n",
       "      <td>13/10/2022</td>\n",
       "      <td>7.750544</td>\n",
       "    </tr>\n",
       "    <tr>\n",
       "      <th>4</th>\n",
       "      <td>14/10/2022</td>\n",
       "      <td>7.738007</td>\n",
       "    </tr>\n",
       "    <tr>\n",
       "      <th>5</th>\n",
       "      <td>15/10/2022</td>\n",
       "      <td>7.738317</td>\n",
       "    </tr>\n",
       "    <tr>\n",
       "      <th>6</th>\n",
       "      <td>16/10/2022</td>\n",
       "      <td>7.738317</td>\n",
       "    </tr>\n",
       "    <tr>\n",
       "      <th>7</th>\n",
       "      <td>17/10/2022</td>\n",
       "      <td>7.738317</td>\n",
       "    </tr>\n",
       "    <tr>\n",
       "      <th>8</th>\n",
       "      <td>18/10/2022</td>\n",
       "      <td>7.717326</td>\n",
       "    </tr>\n",
       "  </tbody>\n",
       "</table>\n",
       "</div>"
      ],
      "text/plain": [
       "         Date       HRK\n",
       "0  10/10/2022  7.673986\n",
       "1  11/10/2022  7.752944\n",
       "2  12/10/2022  7.757543\n",
       "3  13/10/2022  7.750544\n",
       "4  14/10/2022  7.738007\n",
       "5  15/10/2022  7.738317\n",
       "6  16/10/2022  7.738317\n",
       "7  17/10/2022  7.738317\n",
       "8  18/10/2022  7.717326"
      ]
     },
     "execution_count": 45,
     "metadata": {},
     "output_type": "execute_result"
    }
   ],
   "source": [
    "get_exchange_rates(date_start, date_end, save=True, filename=\"exchange_rates_hrk.xlsx\")"
   ]
  },
  {
   "cell_type": "code",
   "execution_count": null,
   "id": "37d9b957",
   "metadata": {},
   "outputs": [],
   "source": []
  }
 ],
 "metadata": {
  "kernelspec": {
   "display_name": "Python 3 (ipykernel)",
   "language": "python",
   "name": "python3"
  },
  "language_info": {
   "codemirror_mode": {
    "name": "ipython",
    "version": 3
   },
   "file_extension": ".py",
   "mimetype": "text/x-python",
   "name": "python",
   "nbconvert_exporter": "python",
   "pygments_lexer": "ipython3",
   "version": "3.10.7"
  }
 },
 "nbformat": 4,
 "nbformat_minor": 5
}
