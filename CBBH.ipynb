{
 "cells": [
  {
   "cell_type": "code",
   "execution_count": 40,
   "id": "59823a6d",
   "metadata": {},
   "outputs": [],
   "source": [
    "# импорт необходимых библиотек\n",
    "\n",
    "import pandas as pd\n",
    "from pandas import json_normalize\n",
    "\n",
    "from webdriver_manager.chrome import ChromeDriverManager\n",
    "\n",
    "from selenium import webdriver\n",
    "from selenium.webdriver.common.by import By\n",
    "from selenium.webdriver.common.keys import Keys\n",
    "from selenium.webdriver.support.ui import Select\n",
    "from selenium.webdriver.chrome.options import Options\n",
    "\n",
    "import json\n",
    "\n",
    "import requests"
   ]
  },
  {
   "cell_type": "code",
   "execution_count": 41,
   "id": "a9ee3d75",
   "metadata": {},
   "outputs": [],
   "source": [
    "link = 'https://cbbh.ba/CurrencyExchange/'  # ссылка на сайт ЦБ Боснии и Герцоговины, откуда будем брать данные по курсу"
   ]
  },
  {
   "cell_type": "code",
   "execution_count": 42,
   "id": "022f518e",
   "metadata": {},
   "outputs": [],
   "source": [
    "options = Options()\n",
    "options.headless = True  # чтобы при запуске кода не открывался отдельное окно браузера "
   ]
  },
  {
   "cell_type": "code",
   "execution_count": 43,
   "id": "888af6dc",
   "metadata": {},
   "outputs": [
    {
     "name": "stderr",
     "output_type": "stream",
     "text": [
      "C:\\Users\\huawei\\AppData\\Local\\Temp\\ipykernel_8080\\1447797879.py:1: DeprecationWarning: executable_path has been deprecated, please pass in a Service object\n",
      "  driver = webdriver.Chrome(ChromeDriverManager().install(), options=options)  # запуск вебдрайвера\n"
     ]
    }
   ],
   "source": [
    "driver = webdriver.Chrome(ChromeDriverManager().install(), options=options)  # запуск вебдрайвера\n",
    "driver.get(link)  # передаем ссылку"
   ]
  },
  {
   "cell_type": "code",
   "execution_count": 44,
   "id": "5343260c",
   "metadata": {},
   "outputs": [],
   "source": [
    "driver.find_element(By.ID, 'dateFrom').clear()\n",
    "driver.find_element(By.ID, 'dateTo').clear()  # очистили окошки для ввода дат от текущей даты"
   ]
  },
  {
   "cell_type": "code",
   "execution_count": 45,
   "id": "da976ade",
   "metadata": {},
   "outputs": [
    {
     "name": "stdout",
     "output_type": "stream",
     "text": [
      "Введите дату начала в формате дд.мм.гггг12.10.2022\n",
      "Введите дату конца в формате дд.мм.гггг22.10.2022\n"
     ]
    }
   ],
   "source": [
    "start_date = input('Введите дату начала в формате дд.мм.гггг')\n",
    "finish_date = input('Введите дату конца в формате дд.мм.гггг')  # просим пользователя ввести даты начала и конца периода"
   ]
  },
  {
   "cell_type": "code",
   "execution_count": 46,
   "id": "d5a7d584",
   "metadata": {},
   "outputs": [],
   "source": [
    "date1 = driver.find_element(By.ID, 'dateFrom')\n",
    "date2 = driver.find_element(By.ID, 'dateTo')  # вебдрайвер ищет окошки для ввода переданных пользователем дат"
   ]
  },
  {
   "cell_type": "code",
   "execution_count": 47,
   "id": "bbeaad71",
   "metadata": {},
   "outputs": [],
   "source": [
    "date1.send_keys(start_date)\n",
    "date2.send_keys(finish_date)  # ввод переданных дат"
   ]
  },
  {
   "cell_type": "code",
   "execution_count": 48,
   "id": "9b775856",
   "metadata": {},
   "outputs": [],
   "source": [
    "driver.find_element(By.XPATH, \"/html/body/section/div/div[1]/div/div[2]/div[3]/a[1]\").click()  #нажимаем на кнопку,\n",
    "                                                                                               #чтобы получить json файл"
   ]
  },
  {
   "cell_type": "code",
   "execution_count": 49,
   "id": "80680aa4",
   "metadata": {},
   "outputs": [],
   "source": [
    "url = driver.current_url  # берем ссылку на json"
   ]
  },
  {
   "cell_type": "code",
   "execution_count": 50,
   "id": "0ea92aba",
   "metadata": {},
   "outputs": [],
   "source": [
    "response = requests.get(url)  # отправляем запрос, чтобы взять данные "
   ]
  },
  {
   "cell_type": "code",
   "execution_count": 52,
   "id": "6325cf16",
   "metadata": {},
   "outputs": [],
   "source": [
    "data = response.json()  # сохраняем json в отдельную переменную"
   ]
  },
  {
   "cell_type": "code",
   "execution_count": 53,
   "id": "13836436",
   "metadata": {},
   "outputs": [],
   "source": [
    "df = pd.DataFrame(columns=('Дата', 'Курс'))  # делаем заготовку под будущий датафрейм"
   ]
  },
  {
   "cell_type": "code",
   "execution_count": 54,
   "id": "277a8409",
   "metadata": {},
   "outputs": [],
   "source": [
    "# нам из всех полученных данных нужна только дата и курс к доллару, поэтому сохраняем эти значения в списки\n",
    "dates = []\n",
    "currencies = []\n",
    "for i in range(len(data)):\n",
    "    dates.append(data[i]['Date'])\n",
    "    currencies.append(data[i]['CurrencyExchangeItems'][13]['Middle'])"
   ]
  },
  {
   "cell_type": "code",
   "execution_count": 55,
   "id": "3ceea084",
   "metadata": {},
   "outputs": [],
   "source": [
    "# передаем сохраненные значения в столбцы датафрейма\n",
    "df['Дата'] = dates\n",
    "df['Курс'] = currencies"
   ]
  },
  {
   "cell_type": "code",
   "execution_count": 56,
   "id": "321df986",
   "metadata": {},
   "outputs": [],
   "source": [
    "# приводим все к правильному типу данных\n",
    "df['Дата'] = pd.to_datetime(df['Дата'])\n",
    "df['Курс'] = df['Курс'].str.replace(',', '.')\n",
    "df['Курс'] = df['Курс'].astype(float)"
   ]
  },
  {
   "cell_type": "code",
   "execution_count": 57,
   "id": "5badecce",
   "metadata": {},
   "outputs": [],
   "source": [
    "# приводим дату к формату дд/мм/гггг\n",
    "df['Дата'] = df['Дата'].dt.strftime('%d/%m/%Y')"
   ]
  },
  {
   "cell_type": "code",
   "execution_count": 58,
   "id": "43c82424",
   "metadata": {},
   "outputs": [],
   "source": [
    "# сохраняем в excel\n",
    "df.to_excel('cbbh.xlsx', index=False)"
   ]
  },
  {
   "cell_type": "code",
   "execution_count": null,
   "id": "2097ab3d",
   "metadata": {},
   "outputs": [],
   "source": []
  },
  {
   "cell_type": "code",
   "execution_count": null,
   "id": "c1960c72",
   "metadata": {},
   "outputs": [],
   "source": []
  }
 ],
 "metadata": {
  "kernelspec": {
   "display_name": "Python 3 (ipykernel)",
   "language": "python",
   "name": "python3"
  },
  "language_info": {
   "codemirror_mode": {
    "name": "ipython",
    "version": 3
   },
   "file_extension": ".py",
   "mimetype": "text/x-python",
   "name": "python",
   "nbconvert_exporter": "python",
   "pygments_lexer": "ipython3",
   "version": "3.9.12"
  }
 },
 "nbformat": 4,
 "nbformat_minor": 5
}
