{
 "cells": [
  {
   "cell_type": "code",
   "execution_count": 49,
   "id": "c9840542",
   "metadata": {},
   "outputs": [],
   "source": [
    "# импорт необходимых библиотек\n",
    "import pandas as pd\n",
    "\n",
    "import requests"
   ]
  },
  {
   "cell_type": "code",
   "execution_count": 2,
   "id": "959c4d3b",
   "metadata": {},
   "outputs": [
    {
     "name": "stdout",
     "output_type": "stream",
     "text": [
      "Введите дату начала в формате дд.мм.гггг10.10.2022\n",
      "Введите дату конца в формате дд.мм.гггг18.10.2022\n"
     ]
    }
   ],
   "source": [
    "start_date = input('Введите дату начала в формате дд.мм.гггг')\n",
    "finish_date = input('Введите дату конца в формате дд.мм.гггг')  # просим пользователя ввести даты начала и конца периода"
   ]
  },
  {
   "cell_type": "code",
   "execution_count": 3,
   "id": "e50ed81f",
   "metadata": {},
   "outputs": [],
   "source": [
    "start_date = pd.to_datetime(start_date, format='%d.%m.%Y')\n",
    "finish_date = pd.to_datetime(finish_date, format='%d.%m.%Y')  # приводим введенные даты в формат даты"
   ]
  },
  {
   "cell_type": "code",
   "execution_count": 4,
   "id": "f2f26def",
   "metadata": {},
   "outputs": [],
   "source": [
    "start_date = start_date.strftime('%m.%d.%Y')\n",
    "finish_date = finish_date.strftime('%m.%d.%Y')  # приводим даты к формату, который требует сайт"
   ]
  },
  {
   "cell_type": "code",
   "execution_count": 50,
   "id": "0005f872",
   "metadata": {},
   "outputs": [],
   "source": [
    "# отправляем запрос на сайт\n",
    "file = requests.get(f'https://cbbh.ba/CurrencyExchange/GetJsonForPeriod?dateFrom={start_date}&dateTo={finish_date}')"
   ]
  },
  {
   "cell_type": "code",
   "execution_count": 51,
   "id": "ab8d65e2",
   "metadata": {},
   "outputs": [],
   "source": [
    "data = file.json()  #сохраняем полученные данные в json"
   ]
  },
  {
   "cell_type": "code",
   "execution_count": 52,
   "id": "775f90f9",
   "metadata": {},
   "outputs": [],
   "source": [
    "df = pd.json_normalize(data, \"CurrencyExchangeItems\", [\"Date\"])"
   ]
  },
  {
   "cell_type": "code",
   "execution_count": 53,
   "id": "ab20d894",
   "metadata": {},
   "outputs": [],
   "source": [
    "df = df[df[\"AlphaCode\"] == \"USD\"][[\"Date\", \"Middle\"]]"
   ]
  },
  {
   "cell_type": "code",
   "execution_count": 54,
   "id": "dd5c123e",
   "metadata": {},
   "outputs": [],
   "source": [
    "df = df.rename(columns={\"Date\": \"Дата\", \"Middle\": \"Курс\"})"
   ]
  },
  {
   "cell_type": "code",
   "execution_count": 55,
   "id": "f5f85f06",
   "metadata": {},
   "outputs": [],
   "source": [
    "# приводим все к правильному типу данных\n",
    "df['Дата'] = pd.to_datetime(df['Дата'])\n",
    "df['Курс'] = df['Курс'].str.replace(',', '.')\n",
    "df['Курс'] = df['Курс'].astype(float)"
   ]
  },
  {
   "cell_type": "code",
   "execution_count": 56,
   "id": "8f1d0a25",
   "metadata": {},
   "outputs": [],
   "source": [
    "# приводим дату к формату дд/мм/гггг\n",
    "df['Дата'] = df['Дата'].dt.strftime('%d/%m/%Y')"
   ]
  },
  {
   "cell_type": "code",
   "execution_count": 57,
   "id": "a0c1463a",
   "metadata": {},
   "outputs": [
    {
     "data": {
      "text/html": [
       "<div>\n",
       "<style scoped>\n",
       "    .dataframe tbody tr th:only-of-type {\n",
       "        vertical-align: middle;\n",
       "    }\n",
       "\n",
       "    .dataframe tbody tr th {\n",
       "        vertical-align: top;\n",
       "    }\n",
       "\n",
       "    .dataframe thead th {\n",
       "        text-align: right;\n",
       "    }\n",
       "</style>\n",
       "<table border=\"1\" class=\"dataframe\">\n",
       "  <thead>\n",
       "    <tr style=\"text-align: right;\">\n",
       "      <th></th>\n",
       "      <th>Дата</th>\n",
       "      <th>Курс</th>\n",
       "    </tr>\n",
       "  </thead>\n",
       "  <tbody>\n",
       "    <tr>\n",
       "      <th>13</th>\n",
       "      <td>11/10/2022</td>\n",
       "      <td>2.016943</td>\n",
       "    </tr>\n",
       "    <tr>\n",
       "      <th>31</th>\n",
       "      <td>12/10/2022</td>\n",
       "      <td>2.011550</td>\n",
       "    </tr>\n",
       "    <tr>\n",
       "      <th>49</th>\n",
       "      <td>13/10/2022</td>\n",
       "      <td>2.015073</td>\n",
       "    </tr>\n",
       "    <tr>\n",
       "      <th>67</th>\n",
       "      <td>14/10/2022</td>\n",
       "      <td>2.008245</td>\n",
       "    </tr>\n",
       "    <tr>\n",
       "      <th>85</th>\n",
       "      <td>15/10/2022</td>\n",
       "      <td>2.012792</td>\n",
       "    </tr>\n",
       "    <tr>\n",
       "      <th>103</th>\n",
       "      <td>18/10/2022</td>\n",
       "      <td>2.008245</td>\n",
       "    </tr>\n",
       "  </tbody>\n",
       "</table>\n",
       "</div>"
      ],
      "text/plain": [
       "           Дата      Курс\n",
       "13   11/10/2022  2.016943\n",
       "31   12/10/2022  2.011550\n",
       "49   13/10/2022  2.015073\n",
       "67   14/10/2022  2.008245\n",
       "85   15/10/2022  2.012792\n",
       "103  18/10/2022  2.008245"
      ]
     },
     "execution_count": 57,
     "metadata": {},
     "output_type": "execute_result"
    }
   ],
   "source": [
    "df"
   ]
  },
  {
   "cell_type": "code",
   "execution_count": null,
   "id": "998ae218",
   "metadata": {},
   "outputs": [],
   "source": []
  }
 ],
 "metadata": {
  "kernelspec": {
   "display_name": "Python 3 (ipykernel)",
   "language": "python",
   "name": "python3"
  },
  "language_info": {
   "codemirror_mode": {
    "name": "ipython",
    "version": 3
   },
   "file_extension": ".py",
   "mimetype": "text/x-python",
   "name": "python",
   "nbconvert_exporter": "python",
   "pygments_lexer": "ipython3",
   "version": "3.10.7"
  }
 },
 "nbformat": 4,
 "nbformat_minor": 5
}
