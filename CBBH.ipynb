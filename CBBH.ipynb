{
 "cells": [
  {
   "cell_type": "code",
   "execution_count": 43,
   "id": "c9840542",
   "metadata": {},
   "outputs": [],
   "source": [
    "# импорт необходимых библиотек\n",
    "import pandas as pd\n",
    "\n",
    "import requests"
   ]
  },
  {
   "cell_type": "code",
   "execution_count": 24,
   "id": "959c4d3b",
   "metadata": {},
   "outputs": [
    {
     "name": "stdout",
     "output_type": "stream",
     "text": [
      "Введите дату начала в формате дд.мм.гггг12.10.2022\n",
      "Введите дату конца в формате дд.мм.гггг18.10.2022\n"
     ]
    }
   ],
   "source": [
    "start_date = input('Введите дату начала в формате дд.мм.гггг')\n",
    "finish_date = input('Введите дату конца в формате дд.мм.гггг')  # просим пользователя ввести даты начала и конца периода"
   ]
  },
  {
   "cell_type": "code",
   "execution_count": 25,
   "id": "e50ed81f",
   "metadata": {},
   "outputs": [],
   "source": [
    "start_date = pd.to_datetime(start_date, format='%d.%m.%Y')\n",
    "finish_date = pd.to_datetime(finish_date, format='%d.%m.%Y')  # приводим введенные даты в формат даты"
   ]
  },
  {
   "cell_type": "code",
   "execution_count": 26,
   "id": "f2f26def",
   "metadata": {},
   "outputs": [],
   "source": [
    "start_date = start_date.strftime('%m.%d.%Y')\n",
    "finish_date = finish_date.strftime('%m.%d.%Y')  # приводим даты к формату, который требует сайт"
   ]
  },
  {
   "cell_type": "code",
   "execution_count": 27,
   "id": "0005f872",
   "metadata": {},
   "outputs": [],
   "source": [
    "# отправляем запрос на сайт\n",
    "file = requests.get(f'https://cbbh.ba/CurrencyExchange/GetJsonForPeriod?dateFrom={start_date}&dateTo={finish_date}')"
   ]
  },
  {
   "cell_type": "code",
   "execution_count": 44,
   "id": "ab8d65e2",
   "metadata": {},
   "outputs": [],
   "source": [
    "data = file.json()  #сохраняем полученные данные в json"
   ]
  },
  {
   "cell_type": "code",
   "execution_count": 33,
   "id": "593969e7",
   "metadata": {},
   "outputs": [],
   "source": [
    "df = pd.DataFrame(columns=('Дата', 'Курс'))  # делаем заготовку под будущий датафрейм"
   ]
  },
  {
   "cell_type": "code",
   "execution_count": 34,
   "id": "181198ba",
   "metadata": {},
   "outputs": [],
   "source": [
    "# нам из всех полученных данных нужна только дата и курс к доллару, поэтому сохраняем эти значения в списки\n",
    "dates = []\n",
    "currencies = []\n",
    "for i in range(len(data)):\n",
    "    dates.append(data[i]['Date'])\n",
    "    currencies.append(data[i]['CurrencyExchangeItems'][13]['Middle'])"
   ]
  },
  {
   "cell_type": "code",
   "execution_count": 35,
   "id": "2e2539d3",
   "metadata": {},
   "outputs": [],
   "source": [
    "# передаем сохраненные значения в столбцы датафрейма\n",
    "df['Дата'] = dates\n",
    "df['Курс'] = currencies"
   ]
  },
  {
   "cell_type": "code",
   "execution_count": 36,
   "id": "f5f85f06",
   "metadata": {},
   "outputs": [],
   "source": [
    "# приводим все к правильному типу данных\n",
    "df['Дата'] = pd.to_datetime(df['Дата'])\n",
    "df['Курс'] = df['Курс'].str.replace(',', '.')\n",
    "df['Курс'] = df['Курс'].astype(float)"
   ]
  },
  {
   "cell_type": "code",
   "execution_count": 40,
   "id": "8f1d0a25",
   "metadata": {},
   "outputs": [],
   "source": [
    "# приводим дату к формату дд/мм/гггг\n",
    "df['Дата'] = df['Дата'].dt.strftime('%d/%m/%Y')"
   ]
  },
  {
   "cell_type": "code",
   "execution_count": 41,
   "id": "a0c1463a",
   "metadata": {},
   "outputs": [
    {
     "data": {
      "text/html": [
       "<div>\n",
       "<style scoped>\n",
       "    .dataframe tbody tr th:only-of-type {\n",
       "        vertical-align: middle;\n",
       "    }\n",
       "\n",
       "    .dataframe tbody tr th {\n",
       "        vertical-align: top;\n",
       "    }\n",
       "\n",
       "    .dataframe thead th {\n",
       "        text-align: right;\n",
       "    }\n",
       "</style>\n",
       "<table border=\"1\" class=\"dataframe\">\n",
       "  <thead>\n",
       "    <tr style=\"text-align: right;\">\n",
       "      <th></th>\n",
       "      <th>Дата</th>\n",
       "      <th>Курс</th>\n",
       "    </tr>\n",
       "  </thead>\n",
       "  <tbody>\n",
       "    <tr>\n",
       "      <th>0</th>\n",
       "      <td>12/10/2022</td>\n",
       "      <td>2.011550</td>\n",
       "    </tr>\n",
       "    <tr>\n",
       "      <th>1</th>\n",
       "      <td>13/10/2022</td>\n",
       "      <td>2.015073</td>\n",
       "    </tr>\n",
       "    <tr>\n",
       "      <th>2</th>\n",
       "      <td>14/10/2022</td>\n",
       "      <td>2.008245</td>\n",
       "    </tr>\n",
       "    <tr>\n",
       "      <th>3</th>\n",
       "      <td>15/10/2022</td>\n",
       "      <td>2.012792</td>\n",
       "    </tr>\n",
       "    <tr>\n",
       "      <th>4</th>\n",
       "      <td>18/10/2022</td>\n",
       "      <td>2.008245</td>\n",
       "    </tr>\n",
       "  </tbody>\n",
       "</table>\n",
       "</div>"
      ],
      "text/plain": [
       "         Дата      Курс\n",
       "0  12/10/2022  2.011550\n",
       "1  13/10/2022  2.015073\n",
       "2  14/10/2022  2.008245\n",
       "3  15/10/2022  2.012792\n",
       "4  18/10/2022  2.008245"
      ]
     },
     "execution_count": 41,
     "metadata": {},
     "output_type": "execute_result"
    }
   ],
   "source": [
    "df"
   ]
  },
  {
   "cell_type": "code",
   "execution_count": 42,
   "id": "46d85863",
   "metadata": {},
   "outputs": [],
   "source": [
    "# сохраняем в excel\n",
    "df.to_excel('cbbh.xlsx', index=False)"
   ]
  },
  {
   "cell_type": "code",
   "execution_count": null,
   "id": "e75a1b12",
   "metadata": {},
   "outputs": [],
   "source": []
  }
 ],
 "metadata": {
  "kernelspec": {
   "display_name": "Python 3 (ipykernel)",
   "language": "python",
   "name": "python3"
  },
  "language_info": {
   "codemirror_mode": {
    "name": "ipython",
    "version": 3
   },
   "file_extension": ".py",
   "mimetype": "text/x-python",
   "name": "python",
   "nbconvert_exporter": "python",
   "pygments_lexer": "ipython3",
   "version": "3.9.12"
  }
 },
 "nbformat": 4,
 "nbformat_minor": 5
}
